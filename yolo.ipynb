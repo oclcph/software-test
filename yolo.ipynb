{
 "cells": [
  {
   "cell_type": "code",
   "source": [
    "import logging\n",
    "import os\n",
    "import cv2\n",
    "import numpy as np\n",
    "from pathlib import Path\n",
    "from ultralytics import YOLO\n",
    "\n",
    "# 加载模型\n",
    "model = YOLO('yolov8n.pt')  # 使用适合你的YOLO模型\n",
    "# 禁用所有日志输出\n",
    "logging.disable(logging.CRITICAL)\n",
    "# 获取类别名称\n",
    "class_names = [\n",
    "    \"person\", \"bicycle\", \"car\", \"motorcycle\", \"airplane\", \"bus\", \"train\", \"truck\", \"boat\",\n",
    "    \"traffic light\", \"fire hydrant\", \"stop sign\", \"parking meter\", \"bench\", \"bird\", \"cat\", \"dog\",\n",
    "    \"horse\", \"sheep\", \"cow\", \"elephant\", \"bear\", \"zebra\", \"giraffe\", \"backpack\", \"umbrella\",\n",
    "    \"handbag\", \"tie\", \"suitcase\", \"frisbee\", \"skis\", \"snowboard\", \"sports ball\", \"kite\", \"baseball bat\",\n",
    "    \"baseball glove\", \"skateboard\", \"surfboard\", \"tennis racket\", \"bottle\", \"wine glass\", \"cup\", \"fork\",\n",
    "    \"knife\", \"spoon\", \"bowl\", \"banana\", \"apple\", \"sandwich\", \"orange\", \"broccoli\", \"carrot\", \"hot dog\",\n",
    "    \"pizza\", \"donut\", \"cake\", \"chair\", \"couch\", \"potted plant\", \"bed\", \"dining table\", \"toilet\", \"tv\",\n",
    "    \"laptop\", \"mouse\", \"remote\", \"keyboard\", \"cell phone\", \"microwave\", \"oven\", \"toaster\", \"sink\", \"refrigerator\",\n",
    "    \"book\", \"clock\", \"vase\", \"scissors\", \"teddy bear\", \"hair drier\", \"toothbrush\"\n",
    "]\n",
    "\n",
    "# 设置验证数据集路径\n",
    "\n",
    "def calculate_iou(pred_bbox, true_bbox, image_width, image_height):\n",
    "    # 将预测框坐标从像素转换为相对坐标\n",
    "    pred_x_center = pred_bbox[0]   \n",
    "    pred_y_center = pred_bbox[1] \n",
    "    pred_width = pred_bbox[2] \n",
    "    pred_height = pred_bbox[3]\n",
    "    \n",
    "    true_x_center = true_bbox[0] * image_width\n",
    "    true_y_center = true_bbox[1] * image_height\n",
    "    true_width = true_bbox[2] * image_width\n",
    "    true_height = true_bbox[3] * image_height\n",
    "\n",
    "    # 计算预测框和真实框的四个角的坐标（归一化）\n",
    "    pred_x1 = pred_x_center - pred_width / 2\n",
    "    pred_y1 = pred_y_center - pred_height / 2\n",
    "    pred_x2 = pred_x_center + pred_width / 2\n",
    "    pred_y2 = pred_y_center + pred_height / 2\n",
    "\n",
    "    true_x1 = true_x_center - true_width / 2\n",
    "    true_y1 = true_y_center - true_height / 2\n",
    "    true_x2 = true_x_center + true_width / 2\n",
    "    true_y2 = true_y_center + true_height / 2\n",
    "\n",
    "    # 计算交集\n",
    "    inter_x1 = max(pred_x1, true_x1)\n",
    "    inter_y1 = max(pred_y1, true_y1)\n",
    "    inter_x2 = min(pred_x2, true_x2)\n",
    "    inter_y2 = min(pred_y2, true_y2)\n",
    "\n",
    "    inter_area = max(0, inter_x2 - inter_x1) * max(0, inter_y2 - inter_y1)\n",
    "    pred_area = (pred_x2 - pred_x1) * (pred_y2 - pred_y1)\n",
    "    true_area = (true_x2 - true_x1) * (true_y2 - true_y1)\n",
    "\n",
    "    union_area = pred_area + true_area - inter_area\n",
    "    return inter_area / union_area if union_area > 0 else 0\n",
    "\n",
    "def compare_results(image_file):\n",
    "    image = cv2.imread(str(image_file))\n",
    "    image_height, image_width, _ = image.shape  # 获取图像的宽度和高度\n",
    "\n",
    "    # 进行YOLO推理\n",
    "    results = model(image)\n",
    "    \n",
    "    # 获取YOLO推理的结果\n",
    "    preds = results[0].boxes  # 获得框的位置和类别信息\n",
    "    pred_labels = preds.cls.cpu().numpy().astype(int)\n",
    "    pred_bboxes = preds.xywh.cpu().numpy()  # 获取相对坐标: [x_center, y_center, width, height]\n",
    "\n",
    "    # 获取标注文件路径\n",
    "    label_file = annotations_path / (image_file.stem + '.txt')  # 使用 Path 对象进行路径拼接\n",
    "    if not label_file.exists():\n",
    "        return None  # 如果没有对应的标签文件，跳过\n",
    "\n",
    "    # 读取标注\n",
    "    true_labels = []\n",
    "    true_bboxes = []\n",
    "    with open(label_file, 'r') as f:\n",
    "        for line in f:\n",
    "            parts = line.strip().split()\n",
    "            true_labels.append(int(parts[0]))  # 类别标签\n",
    "            true_bboxes.append(list(map(float, parts[1:])))  # 边界框位置（归一化的）\n",
    "\n",
    "    # 计算IOU并判断预测结果是否正确\n",
    "    correct = 0\n",
    "    total_pred = len(pred_labels)\n",
    "    total_true = len(true_labels)\n",
    "    \n",
    "    for i in range(min(total_pred, total_true)):  # 比较最小数量的预测框和标注框\n",
    "        pred_label = pred_labels[i]\n",
    "        pred_bbox = pred_bboxes[i]\n",
    "        true_label = true_labels[i]\n",
    "        true_bbox = true_bboxes[i]\n",
    "\n",
    "        # 检查是否类别匹配，且计算IOU\n",
    "        if pred_label == true_label:\n",
    "            iou = calculate_iou(pred_bbox, true_bbox, image_width, image_height)\n",
    "            # print(f'Predicted IoU: {iou:.4f}, Predicted: {pred_bbox}, True: {true_bbox}')\n",
    "            if iou > 0.5:  \n",
    "                correct += 1\n",
    "\n",
    "    return correct / total_pred if total_pred > 0 else 0  # 返回正确率\n",
    "\n",
    "\n"
   ],
   "metadata": {
    "collapsed": false,
    "jupyter": {
     "is_executing": true
    }
   },
   "id": "47b7138e708ef042",
   "outputs": [],
   "execution_count": null
  },
  {
   "cell_type": "code",
   "outputs": [
    {
     "name": "stdout",
     "output_type": "stream",
     "text": [
      "Total number of images in the validation set: 3000\n",
      "Average accuracy: 0.9895574749296112\n"
     ]
    }
   ],
   "source": [
    "val_path = 'E:/LoLI-Street/data/dataset/LoLI-Street Dataset/Val/high'  # 低光照验证集路径\n",
    "image_files = list(Path(val_path).glob('*.jpg'))  \n",
    "print(f\"Total number of images in the validation set: {len(image_files)}\")\n",
    "# 设置标注文件路径\n",
    "annotations_path = Path('E:/LoLI-Street/data/dataset/LoLI-Street Dataset/YOLO Annotations/Val/YOLO Annotations (high)/Labels')\n",
    "accuracies = []\n",
    "for image_file in image_files:\n",
    "    accuracy = compare_results(image_file)\n",
    "    if accuracy is not None:\n",
    "        accuracies.append(accuracy)\n",
    "\n",
    "# 输出平均准确率\n",
    "if accuracies:\n",
    "    print(f\"Average accuracy: {np.mean(accuracies)}\")\n",
    "else:\n",
    "    print(\"No valid predictions to evaluate.\")"
   ],
   "metadata": {
    "collapsed": false,
    "ExecuteTime": {
     "end_time": "2024-12-29T12:22:15.619456700Z",
     "start_time": "2024-12-29T12:21:05.286916800Z"
    }
   },
   "id": "5e5ac16632d56a8a",
   "execution_count": 4
  },
  {
   "cell_type": "code",
   "outputs": [
    {
     "name": "stdout",
     "output_type": "stream",
     "text": [
      "Total number of images in the validation set: 3000\n",
      "Average accuracy: 0.9865001422162962\n"
     ]
    }
   ],
   "source": [
    "val_path = 'E:/LoLI-Street/data/dataset/LoLI-Street Dataset/Val/low'  # 低光照验证集路径\n",
    "image_files = list(Path(val_path).glob('*.jpg'))  \n",
    "print(f\"Total number of images in the validation set: {len(image_files)}\")\n",
    "# 设置标注文件路径\n",
    "annotations_path = Path('E:/LoLI-Street/data/dataset/LoLI-Street Dataset/YOLO Annotations/Val/YOLO Annotations (low)/Labels')\n",
    "accuracies = []\n",
    "for image_file in image_files:\n",
    "    accuracy = compare_results(image_file)\n",
    "    if accuracy is not None:\n",
    "        accuracies.append(accuracy)\n",
    "\n",
    "# 输出平均准确率\n",
    "if accuracies:\n",
    "    print(f\"Average accuracy: {np.mean(accuracies)}\")\n",
    "else:\n",
    "    print(\"No valid predictions to evaluate.\")"
   ],
   "metadata": {
    "collapsed": false,
    "ExecuteTime": {
     "end_time": "2024-12-29T12:20:59.623282900Z",
     "start_time": "2024-12-29T12:18:58.642644700Z"
    }
   },
   "id": "810aac9c3089687a",
   "execution_count": 3
  },
  {
   "cell_type": "code",
   "outputs": [
    {
     "name": "stdout",
     "output_type": "stream",
     "text": [
      "Total number of images in the validation set: 30000\n"
     ]
    }
   ],
   "source": [
    "val_path = 'E:/LoLI-Street/data/dataset/LoLI-Street Dataset/Train/low'  # 低光照验证集路径\n",
    "image_files = list(Path(val_path).glob('*.jpg'))  \n",
    "print(f\"Total number of images in the validation set: {len(image_files)}\")\n",
    "# 设置标注文件路径\n",
    "annotations_path = Path('E:/LoLI-Street/data/dataset/LoLI-Street Dataset/YOLO Annotations/Train/low/Labels')\n",
    "accuracies = []\n",
    "for image_file in image_files:\n",
    "    accuracy = compare_results(image_file)\n",
    "    if accuracy is not None:\n",
    "        accuracies.append(accuracy)\n",
    "\n",
    "# 输出平均准确率\n",
    "if accuracies:\n",
    "    print(f\"Average accuracy: {np.mean(accuracies)}\")\n",
    "else:\n",
    "    print(\"No valid predictions to evaluate.\")"
   ],
   "metadata": {
    "collapsed": false,
    "is_executing": true,
    "ExecuteTime": {
     "start_time": "2024-12-29T12:24:38.699286800Z"
    }
   },
   "id": "baefd5a2b62a4b97",
   "execution_count": null
  },
  {
   "cell_type": "code",
   "outputs": [],
   "source": [],
   "metadata": {
    "collapsed": false
   },
   "id": "ed0c604f2cb7bf21",
   "execution_count": null
  }
 ],
 "metadata": {
  "kernelspec": {
   "display_name": "Python 3",
   "language": "python",
   "name": "python3"
  },
  "language_info": {
   "codemirror_mode": {
    "name": "ipython",
    "version": 2
   },
   "file_extension": ".py",
   "mimetype": "text/x-python",
   "name": "python",
   "nbconvert_exporter": "python",
   "pygments_lexer": "ipython2",
   "version": "2.7.6"
  }
 },
 "nbformat": 4,
 "nbformat_minor": 5
}
