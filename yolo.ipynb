{
 "cells": [
  {
   "cell_type": "markdown",
   "source": [
    "## 初始化信息"
   ],
   "metadata": {
    "collapsed": false
   },
   "id": "d58c3f41c2217fff"
  },
  {
   "cell_type": "code",
   "outputs": [],
   "source": [
    "import logging\n",
    "import os\n",
    "import cv2\n",
    "import numpy as np\n",
    "from pathlib import Path\n",
    "from ultralytics import YOLO\n",
    "\n",
    "# 加载模型\n",
    "model = YOLO('yolov8n.pt')  # 使用适合你的YOLO模型\n",
    "# 禁用所有日志输出\n",
    "logging.disable(logging.CRITICAL)\n",
    "# 获取类别名称\n",
    "class_names = [\n",
    "    \"person\", \"bicycle\", \"car\", \"motorcycle\", \"airplane\", \"bus\", \"train\", \"truck\", \"boat\",\n",
    "    \"traffic light\", \"fire hydrant\", \"stop sign\", \"parking meter\", \"bench\", \"bird\", \"cat\", \"dog\",\n",
    "    \"horse\", \"sheep\", \"cow\", \"elephant\", \"bear\", \"zebra\", \"giraffe\", \"backpack\", \"umbrella\",\n",
    "    \"handbag\", \"tie\", \"suitcase\", \"frisbee\", \"skis\", \"snowboard\", \"sports ball\", \"kite\", \"baseball bat\",\n",
    "    \"baseball glove\", \"skateboard\", \"surfboard\", \"tennis racket\", \"bottle\", \"wine glass\", \"cup\", \"fork\",\n",
    "    \"knife\", \"spoon\", \"bowl\", \"banana\", \"apple\", \"sandwich\", \"orange\", \"broccoli\", \"carrot\", \"hot dog\",\n",
    "    \"pizza\", \"donut\", \"cake\", \"chair\", \"couch\", \"potted plant\", \"bed\", \"dining table\", \"toilet\", \"tv\",\n",
    "    \"laptop\", \"mouse\", \"remote\", \"keyboard\", \"cell phone\", \"microwave\", \"oven\", \"toaster\", \"sink\", \"refrigerator\",\n",
    "    \"book\", \"clock\", \"vase\", \"scissors\", \"teddy bear\", \"hair drier\", \"toothbrush\"\n",
    "]\n",
    "class_metrics = {class_name: {'TP': 0, 'FP': 0, 'FN': 0} for class_name in class_names}\n"
   ],
   "metadata": {
    "collapsed": false,
    "ExecuteTime": {
     "end_time": "2025-01-04T15:51:03.350917400Z",
     "start_time": "2025-01-04T15:50:59.677251400Z"
    }
   },
   "id": "aa7b0cf926a8155a",
   "execution_count": 1
  },
  {
   "cell_type": "markdown",
   "source": [
    "## IOU计算函数"
   ],
   "metadata": {
    "collapsed": false
   },
   "id": "c6d7d9ed94969960"
  },
  {
   "cell_type": "code",
   "outputs": [],
   "source": [
    "def calculate_iou(pred_bbox, true_bbox, image_width, image_height):\n",
    "    # 将预测框坐标从像素转换为相对坐标\n",
    "    pred_x_center = pred_bbox[0]\n",
    "    pred_y_center = pred_bbox[1]\n",
    "    pred_width = pred_bbox[2]\n",
    "    pred_height = pred_bbox[3]\n",
    "    \n",
    "    true_x_center = true_bbox[0] * image_width\n",
    "    true_y_center = true_bbox[1] * image_height\n",
    "    true_width = true_bbox[2] * image_width\n",
    "    true_height = true_bbox[3] * image_height\n",
    "\n",
    "    # 计算预测框和真实框的四个角的坐标（归一化）\n",
    "    pred_x1 = pred_x_center - pred_width / 2\n",
    "    pred_y1 = pred_y_center - pred_height / 2\n",
    "    pred_x2 = pred_x_center + pred_width / 2\n",
    "    pred_y2 = pred_y_center + pred_height / 2\n",
    "\n",
    "    true_x1 = true_x_center - true_width / 2\n",
    "    true_y1 = true_y_center - true_height / 2\n",
    "    true_x2 = true_x_center + true_width / 2\n",
    "    true_y2 = true_y_center + true_height / 2\n",
    "\n",
    "    # 计算交集\n",
    "    inter_x1 = max(pred_x1, true_x1)\n",
    "    inter_y1 = max(pred_y1, true_y1)\n",
    "    inter_x2 = min(pred_x2, true_x2)\n",
    "    inter_y2 = min(pred_y2, true_y2)\n",
    "\n",
    "    inter_area = max(0, inter_x2 - inter_x1) * max(0, inter_y2 - inter_y1)\n",
    "    pred_area = (pred_x2 - pred_x1) * (pred_y2 - pred_y1)\n",
    "    true_area = (true_x2 - true_x1) * (true_y2 - true_y1)\n",
    "\n",
    "    union_area = pred_area + true_area - inter_area\n",
    "    return inter_area / union_area if union_area > 0 else 0\n",
    "\n",
    "def compare_results(image_file):\n",
    "    image = cv2.imread(str(image_file))\n",
    "    image_height, image_width, _ = image.shape  # 获取图像的宽度和高度\n",
    "\n",
    "    # 进行YOLO推理\n",
    "    results = model(image)\n",
    "    \n",
    "    # 获取YOLO推理的结果\n",
    "    preds = results[0].boxes  # 获得框的位置和类别信息\n",
    "    pred_labels = preds.cls.cpu().numpy().astype(int)\n",
    "    pred_bboxes = preds.xywh.cpu().numpy()  # 获取相对坐标: [x_center, y_center, width, height]\n",
    "\n",
    "    # 获取标注文件路径\n",
    "    label_file = annotations_path / (image_file.stem + '.txt')  # 使用 Path 对象进行路径拼接\n",
    "    if not label_file.exists():\n",
    "        return None  # 如果没有对应的标签文件，跳过\n",
    "\n",
    "    # 读取标注\n",
    "    true_labels = []\n",
    "    true_bboxes = []\n",
    "    with open(label_file, 'r') as f:\n",
    "        for line in f:\n",
    "            parts = line.strip().split()\n",
    "            true_labels.append(int(parts[0]))  # 类别标签\n",
    "            true_bboxes.append(list(map(float, parts[1:])))  # 边界框位置（归一化的）\n",
    "\n",
    "    # 计算IOU并判断预测结果是否正确\n",
    "    total_pred = len(pred_labels)\n",
    "    total_true = len(true_labels)\n",
    "    \n",
    "    for i in range(min(total_pred, total_true)):  # 比较最小数量的预测框和标注框\n",
    "        pred_label = pred_labels[i]\n",
    "        pred_bbox = pred_bboxes[i]\n",
    "        true_label = true_labels[i]\n",
    "        true_bbox = true_bboxes[i]\n",
    "\n",
    "        # 检查是否类别匹配，且计算IOU\n",
    "        if pred_label == true_label:\n",
    "            iou = calculate_iou(pred_bbox, true_bbox, image_width, image_height)\n",
    "            if iou > 0.7:  \n",
    "                # 更新TP\n",
    "                class_metrics[class_names[pred_label]]['TP'] += 1\n",
    "            else:\n",
    "                # 更新FP\n",
    "                class_metrics[class_names[pred_label]]['FP'] += 1\n",
    "\n",
    "        else:\n",
    "            # 如果预测的标签与真实标签不一致，更新FP和FN\n",
    "            class_metrics[class_names[pred_label]]['FP'] += 1\n",
    "            class_metrics[class_names[true_label]]['FN'] += 1\n",
    "\n",
    "    return total_pred, total_true\n",
    "\n"
   ],
   "metadata": {
    "collapsed": false,
    "ExecuteTime": {
     "end_time": "2025-01-04T15:51:03.363849800Z",
     "start_time": "2025-01-04T15:51:03.357964500Z"
    }
   },
   "id": "af69cdd852404ec",
   "execution_count": 2
  },
  {
   "cell_type": "markdown",
   "source": [
    "## 结果打印函数"
   ],
   "metadata": {
    "collapsed": false
   },
   "id": "ea00da8f5a76cb4d"
  },
  {
   "cell_type": "code",
   "outputs": [],
   "source": [
    "import pandas as pd\n",
    "from IPython.display import display\n",
    "\n",
    "def display_metrics(class_labels, precision, recall, f1_score):\n",
    "    \"\"\"\n",
    "    将 Precision, Recall, F1-Score 数据汇总到 DataFrame 并显示\n",
    "    \n",
    "    参数:\n",
    "    class_labels (list): 类别标签列表\n",
    "    precision (list): 每个类别的 Precision 列表\n",
    "    recall (list): 每个类别的 Recall 列表\n",
    "    f1_score (list): 每个类别的 F1-Score 列表\n",
    "    \"\"\"\n",
    "    # 将数据汇总到 DataFrame\n",
    "    data = {\n",
    "        'Class': class_labels,\n",
    "        'Precision': precision,\n",
    "        'Recall': recall,\n",
    "        'F1-Score': f1_score\n",
    "    }\n",
    "    df = pd.DataFrame(data)\n",
    "    # print(df) #需要复制结果时启用\n",
    "    # 显示表格\n",
    "    display(df)\n",
    "\n",
    "# 调用示例：\n",
    "# display_metrics(class_labels, precision, recall, f1_score)\n"
   ],
   "metadata": {
    "collapsed": false,
    "ExecuteTime": {
     "end_time": "2025-01-04T15:51:03.373461400Z",
     "start_time": "2025-01-04T15:51:03.362848700Z"
    }
   },
   "id": "a819d93a8b2a571",
   "execution_count": 3
  },
  {
   "cell_type": "markdown",
   "source": [
    "## 正常光照测试"
   ],
   "metadata": {
    "collapsed": false
   },
   "id": "902ca3adb2de65f9"
  },
  {
   "cell_type": "code",
   "outputs": [
    {
     "name": "stdout",
     "output_type": "stream",
     "text": [
      "Total number of images in the validation set: 3000\n"
     ]
    },
    {
     "data": {
      "text/plain": "            Class  Precision    Recall  F1-Score\n0          person   0.987860  0.995413  0.991622\n1         bicycle   1.000000  1.000000  1.000000\n2             car   0.995233  0.997515  0.996373\n3      motorcycle   0.983709  0.992415  0.988043\n4        airplane   1.000000  1.000000  1.000000\n5             bus   0.989437  0.989437  0.989437\n6           train   1.000000  1.000000  1.000000\n7           truck   0.997067  0.998532  0.997799\n8            boat   1.000000  1.000000  1.000000\n9   traffic light   1.000000  1.000000  1.000000\n10   fire hydrant   1.000000  1.000000  1.000000\n11      stop sign   1.000000  1.000000  1.000000\n12          bench   1.000000  1.000000  1.000000\n13       backpack   1.000000  1.000000  1.000000\n14       umbrella   1.000000  1.000000  1.000000\n15        handbag   1.000000  1.000000  1.000000\n16            tie   1.000000  1.000000  1.000000\n17    sports ball   1.000000  1.000000  1.000000\n18           kite   1.000000  1.000000  1.000000\n19  tennis racket   1.000000  1.000000  1.000000\n20         banana   1.000000  1.000000  1.000000\n21          chair   1.000000  1.000000  1.000000\n22   potted plant   1.000000  1.000000  1.000000\n23             tv   1.000000  1.000000  1.000000\n24          clock   1.000000  1.000000  1.000000",
      "text/html": "<div>\n<style scoped>\n    .dataframe tbody tr th:only-of-type {\n        vertical-align: middle;\n    }\n\n    .dataframe tbody tr th {\n        vertical-align: top;\n    }\n\n    .dataframe thead th {\n        text-align: right;\n    }\n</style>\n<table border=\"1\" class=\"dataframe\">\n  <thead>\n    <tr style=\"text-align: right;\">\n      <th></th>\n      <th>Class</th>\n      <th>Precision</th>\n      <th>Recall</th>\n      <th>F1-Score</th>\n    </tr>\n  </thead>\n  <tbody>\n    <tr>\n      <th>0</th>\n      <td>person</td>\n      <td>0.987860</td>\n      <td>0.995413</td>\n      <td>0.991622</td>\n    </tr>\n    <tr>\n      <th>1</th>\n      <td>bicycle</td>\n      <td>1.000000</td>\n      <td>1.000000</td>\n      <td>1.000000</td>\n    </tr>\n    <tr>\n      <th>2</th>\n      <td>car</td>\n      <td>0.995233</td>\n      <td>0.997515</td>\n      <td>0.996373</td>\n    </tr>\n    <tr>\n      <th>3</th>\n      <td>motorcycle</td>\n      <td>0.983709</td>\n      <td>0.992415</td>\n      <td>0.988043</td>\n    </tr>\n    <tr>\n      <th>4</th>\n      <td>airplane</td>\n      <td>1.000000</td>\n      <td>1.000000</td>\n      <td>1.000000</td>\n    </tr>\n    <tr>\n      <th>5</th>\n      <td>bus</td>\n      <td>0.989437</td>\n      <td>0.989437</td>\n      <td>0.989437</td>\n    </tr>\n    <tr>\n      <th>6</th>\n      <td>train</td>\n      <td>1.000000</td>\n      <td>1.000000</td>\n      <td>1.000000</td>\n    </tr>\n    <tr>\n      <th>7</th>\n      <td>truck</td>\n      <td>0.997067</td>\n      <td>0.998532</td>\n      <td>0.997799</td>\n    </tr>\n    <tr>\n      <th>8</th>\n      <td>boat</td>\n      <td>1.000000</td>\n      <td>1.000000</td>\n      <td>1.000000</td>\n    </tr>\n    <tr>\n      <th>9</th>\n      <td>traffic light</td>\n      <td>1.000000</td>\n      <td>1.000000</td>\n      <td>1.000000</td>\n    </tr>\n    <tr>\n      <th>10</th>\n      <td>fire hydrant</td>\n      <td>1.000000</td>\n      <td>1.000000</td>\n      <td>1.000000</td>\n    </tr>\n    <tr>\n      <th>11</th>\n      <td>stop sign</td>\n      <td>1.000000</td>\n      <td>1.000000</td>\n      <td>1.000000</td>\n    </tr>\n    <tr>\n      <th>12</th>\n      <td>bench</td>\n      <td>1.000000</td>\n      <td>1.000000</td>\n      <td>1.000000</td>\n    </tr>\n    <tr>\n      <th>13</th>\n      <td>backpack</td>\n      <td>1.000000</td>\n      <td>1.000000</td>\n      <td>1.000000</td>\n    </tr>\n    <tr>\n      <th>14</th>\n      <td>umbrella</td>\n      <td>1.000000</td>\n      <td>1.000000</td>\n      <td>1.000000</td>\n    </tr>\n    <tr>\n      <th>15</th>\n      <td>handbag</td>\n      <td>1.000000</td>\n      <td>1.000000</td>\n      <td>1.000000</td>\n    </tr>\n    <tr>\n      <th>16</th>\n      <td>tie</td>\n      <td>1.000000</td>\n      <td>1.000000</td>\n      <td>1.000000</td>\n    </tr>\n    <tr>\n      <th>17</th>\n      <td>sports ball</td>\n      <td>1.000000</td>\n      <td>1.000000</td>\n      <td>1.000000</td>\n    </tr>\n    <tr>\n      <th>18</th>\n      <td>kite</td>\n      <td>1.000000</td>\n      <td>1.000000</td>\n      <td>1.000000</td>\n    </tr>\n    <tr>\n      <th>19</th>\n      <td>tennis racket</td>\n      <td>1.000000</td>\n      <td>1.000000</td>\n      <td>1.000000</td>\n    </tr>\n    <tr>\n      <th>20</th>\n      <td>banana</td>\n      <td>1.000000</td>\n      <td>1.000000</td>\n      <td>1.000000</td>\n    </tr>\n    <tr>\n      <th>21</th>\n      <td>chair</td>\n      <td>1.000000</td>\n      <td>1.000000</td>\n      <td>1.000000</td>\n    </tr>\n    <tr>\n      <th>22</th>\n      <td>potted plant</td>\n      <td>1.000000</td>\n      <td>1.000000</td>\n      <td>1.000000</td>\n    </tr>\n    <tr>\n      <th>23</th>\n      <td>tv</td>\n      <td>1.000000</td>\n      <td>1.000000</td>\n      <td>1.000000</td>\n    </tr>\n    <tr>\n      <th>24</th>\n      <td>clock</td>\n      <td>1.000000</td>\n      <td>1.000000</td>\n      <td>1.000000</td>\n    </tr>\n  </tbody>\n</table>\n</div>"
     },
     "metadata": {},
     "output_type": "display_data"
    }
   ],
   "source": [
    "import matplotlib.pyplot as plt\n",
    "import seaborn as sns\n",
    "import pandas as pd\n",
    "from pathlib import Path\n",
    "\n",
    "# 使用相对路径构建验证集路径和标注路径\n",
    "val_path = Path(r'.\\data\\Val\\high')  # 使用原始字符串避免转义问题\n",
    "\n",
    "image_files = list(val_path.glob('*.jpg'))\n",
    "print(f\"Total number of images in the validation set: {len(image_files)}\")\n",
    "\n",
    "# 设置标注文件路径\n",
    "annotations_path = Path(r'.\\data\\Annotations (high)\\Labels')  # 使用原始字符串\n",
    "class_metrics = {class_name: {'TP': 0, 'FP': 0, 'FN': 0} for class_name in class_names}\n",
    "# 对所有图像进行评估\n",
    "precision = []\n",
    "recall = []\n",
    "f1_score = []\n",
    "class_labels = []\n",
    "\n",
    "# 对所有图像进行评估\n",
    "for image_file in image_files:\n",
    "    compare_results(image_file)\n",
    "\n",
    "# 计算每个类别的Precision, Recall, F1-Score\n",
    "# 计算 Precision, Recall, F1-Score\n",
    "for class_name in class_names:\n",
    "    TP = class_metrics[class_name]['TP']\n",
    "    FP = class_metrics[class_name]['FP']\n",
    "    FN = class_metrics[class_name]['FN']\n",
    "\n",
    "    Precision = TP / (TP + FP) if (TP + FP) > 0 else 0\n",
    "    Recall = TP / (TP + FN) if (TP + FN) > 0 else 0\n",
    "    F1_Score = 2 * (Precision * Recall) / (Precision + Recall) if (Precision + Recall) > 0 else 0\n",
    "    if Precision + Recall + F1_Score > 0:\n",
    "        precision.append(Precision)\n",
    "        recall.append(Recall)\n",
    "        f1_score.append(F1_Score)\n",
    "        class_labels.append(class_name)\n",
    "# 将 Precision, Recall, F1-Score 数据汇总到 DataFrame\n",
    "data = {\n",
    "    'Class': class_labels,\n",
    "    'Precision': precision,\n",
    "    'Recall': recall,\n",
    "    'F1-Score': f1_score\n",
    "}\n",
    "\n",
    "df = pd.DataFrame(data)\n",
    "\n",
    "display_metrics(class_labels, precision, recall, f1_score)"
   ],
   "metadata": {
    "collapsed": false,
    "ExecuteTime": {
     "end_time": "2025-01-04T15:51:54.930320400Z",
     "start_time": "2025-01-04T15:51:03.371460900Z"
    }
   },
   "id": "2b0035f70c0c2303",
   "execution_count": 4
  },
  {
   "cell_type": "markdown",
   "source": [
    "## 低光照测试"
   ],
   "metadata": {
    "collapsed": false
   },
   "id": "ce30b36871bb8495"
  },
  {
   "cell_type": "code",
   "outputs": [
    {
     "name": "stdout",
     "output_type": "stream",
     "text": [
      "Total number of images in the validation set: 3000\n"
     ]
    },
    {
     "data": {
      "text/plain": "            Class  Precision    Recall  F1-Score\n0          person   0.290744  0.412043  0.340925\n1         bicycle   0.175926  0.231707  0.200000\n2             car   0.485606  0.747873  0.588858\n3      motorcycle   0.206236  0.272596  0.234818\n4        airplane   0.428571  0.500000  0.461538\n5             bus   0.396907  0.427184  0.411490\n6           train   0.200000  0.384615  0.263158\n7           truck   0.394471  0.442457  0.417088\n8   traffic light   0.242683  0.262187  0.252058\n9    fire hydrant   0.416667  0.238095  0.303030\n10      stop sign   0.347826  0.200000  0.253968\n11          bench   0.083333  0.111111  0.095238\n12       backpack   0.272727  0.240000  0.255319\n13       umbrella   0.111111  0.100000  0.105263\n14        handbag   0.125000  0.034483  0.054054\n15            tie   0.500000  0.200000  0.285714\n16    sports ball   1.000000  0.500000  0.666667\n17  tennis racket   1.000000  0.500000  0.666667\n18         banana   1.000000  1.000000  1.000000\n19   potted plant   0.068966  0.083333  0.075472\n20             tv   1.000000  0.500000  0.666667\n21          clock   0.225000  0.230769  0.227848",
      "text/html": "<div>\n<style scoped>\n    .dataframe tbody tr th:only-of-type {\n        vertical-align: middle;\n    }\n\n    .dataframe tbody tr th {\n        vertical-align: top;\n    }\n\n    .dataframe thead th {\n        text-align: right;\n    }\n</style>\n<table border=\"1\" class=\"dataframe\">\n  <thead>\n    <tr style=\"text-align: right;\">\n      <th></th>\n      <th>Class</th>\n      <th>Precision</th>\n      <th>Recall</th>\n      <th>F1-Score</th>\n    </tr>\n  </thead>\n  <tbody>\n    <tr>\n      <th>0</th>\n      <td>person</td>\n      <td>0.290744</td>\n      <td>0.412043</td>\n      <td>0.340925</td>\n    </tr>\n    <tr>\n      <th>1</th>\n      <td>bicycle</td>\n      <td>0.175926</td>\n      <td>0.231707</td>\n      <td>0.200000</td>\n    </tr>\n    <tr>\n      <th>2</th>\n      <td>car</td>\n      <td>0.485606</td>\n      <td>0.747873</td>\n      <td>0.588858</td>\n    </tr>\n    <tr>\n      <th>3</th>\n      <td>motorcycle</td>\n      <td>0.206236</td>\n      <td>0.272596</td>\n      <td>0.234818</td>\n    </tr>\n    <tr>\n      <th>4</th>\n      <td>airplane</td>\n      <td>0.428571</td>\n      <td>0.500000</td>\n      <td>0.461538</td>\n    </tr>\n    <tr>\n      <th>5</th>\n      <td>bus</td>\n      <td>0.396907</td>\n      <td>0.427184</td>\n      <td>0.411490</td>\n    </tr>\n    <tr>\n      <th>6</th>\n      <td>train</td>\n      <td>0.200000</td>\n      <td>0.384615</td>\n      <td>0.263158</td>\n    </tr>\n    <tr>\n      <th>7</th>\n      <td>truck</td>\n      <td>0.394471</td>\n      <td>0.442457</td>\n      <td>0.417088</td>\n    </tr>\n    <tr>\n      <th>8</th>\n      <td>traffic light</td>\n      <td>0.242683</td>\n      <td>0.262187</td>\n      <td>0.252058</td>\n    </tr>\n    <tr>\n      <th>9</th>\n      <td>fire hydrant</td>\n      <td>0.416667</td>\n      <td>0.238095</td>\n      <td>0.303030</td>\n    </tr>\n    <tr>\n      <th>10</th>\n      <td>stop sign</td>\n      <td>0.347826</td>\n      <td>0.200000</td>\n      <td>0.253968</td>\n    </tr>\n    <tr>\n      <th>11</th>\n      <td>bench</td>\n      <td>0.083333</td>\n      <td>0.111111</td>\n      <td>0.095238</td>\n    </tr>\n    <tr>\n      <th>12</th>\n      <td>backpack</td>\n      <td>0.272727</td>\n      <td>0.240000</td>\n      <td>0.255319</td>\n    </tr>\n    <tr>\n      <th>13</th>\n      <td>umbrella</td>\n      <td>0.111111</td>\n      <td>0.100000</td>\n      <td>0.105263</td>\n    </tr>\n    <tr>\n      <th>14</th>\n      <td>handbag</td>\n      <td>0.125000</td>\n      <td>0.034483</td>\n      <td>0.054054</td>\n    </tr>\n    <tr>\n      <th>15</th>\n      <td>tie</td>\n      <td>0.500000</td>\n      <td>0.200000</td>\n      <td>0.285714</td>\n    </tr>\n    <tr>\n      <th>16</th>\n      <td>sports ball</td>\n      <td>1.000000</td>\n      <td>0.500000</td>\n      <td>0.666667</td>\n    </tr>\n    <tr>\n      <th>17</th>\n      <td>tennis racket</td>\n      <td>1.000000</td>\n      <td>0.500000</td>\n      <td>0.666667</td>\n    </tr>\n    <tr>\n      <th>18</th>\n      <td>banana</td>\n      <td>1.000000</td>\n      <td>1.000000</td>\n      <td>1.000000</td>\n    </tr>\n    <tr>\n      <th>19</th>\n      <td>potted plant</td>\n      <td>0.068966</td>\n      <td>0.083333</td>\n      <td>0.075472</td>\n    </tr>\n    <tr>\n      <th>20</th>\n      <td>tv</td>\n      <td>1.000000</td>\n      <td>0.500000</td>\n      <td>0.666667</td>\n    </tr>\n    <tr>\n      <th>21</th>\n      <td>clock</td>\n      <td>0.225000</td>\n      <td>0.230769</td>\n      <td>0.227848</td>\n    </tr>\n  </tbody>\n</table>\n</div>"
     },
     "metadata": {},
     "output_type": "display_data"
    }
   ],
   "source": [
    "import matplotlib.pyplot as plt\n",
    "import seaborn as sns\n",
    "import pandas as pd\n",
    "from pathlib import Path\n",
    "\n",
    "# 使用相对路径构建验证集路径和标注路径\n",
    "val_path = Path(r'.\\data\\Val\\low')  # 低光照验证集路径\n",
    "image_files = list(val_path.glob('*.jpg'))\n",
    "print(f\"Total number of images in the validation set: {len(image_files)}\")\n",
    "\n",
    "# 设置标注文件路径\n",
    "annotations_path_low = Path(r'.\\data\\Annotations (low)\\Labels')\n",
    "\n",
    "class_metrics = {class_name: {'TP': 0, 'FP': 0, 'FN': 0} for class_name in class_names}\n",
    "# 对所有图像进行评估\n",
    "precision = []\n",
    "recall = []\n",
    "f1_score = []\n",
    "class_labels = []\n",
    "\n",
    "# 对所有图像进行评估\n",
    "for image_file in image_files:\n",
    "    compare_results(image_file)\n",
    "\n",
    "# 计算每个类别的Precision, Recall, F1-Score\n",
    "# 计算 Precision, Recall, F1-Score\n",
    "for class_name in class_names:\n",
    "    TP = class_metrics[class_name]['TP']\n",
    "    FP = class_metrics[class_name]['FP']\n",
    "    FN = class_metrics[class_name]['FN']\n",
    "\n",
    "    Precision = TP / (TP + FP) if (TP + FP) > 0 else 0\n",
    "    Recall = TP / (TP + FN) if (TP + FN) > 0 else 0\n",
    "    F1_Score = 2 * (Precision * Recall) / (Precision + Recall) if (Precision + Recall) > 0 else 0\n",
    "    if Precision + Recall + F1_Score > 0:\n",
    "        precision.append(Precision)\n",
    "        recall.append(Recall)\n",
    "        f1_score.append(F1_Score)\n",
    "        class_labels.append(class_name)\n",
    "# 将 Precision, Recall, F1-Score 数据汇总到 DataFrame\n",
    "data = {\n",
    "    'Class': class_labels,\n",
    "    'Precision': precision,\n",
    "    'Recall': recall,\n",
    "    'F1-Score': f1_score\n",
    "}\n",
    "\n",
    "df = pd.DataFrame(data)\n",
    "\n",
    "display_metrics(class_labels, precision, recall, f1_score)"
   ],
   "metadata": {
    "collapsed": false,
    "ExecuteTime": {
     "end_time": "2025-01-04T15:53:06.769083400Z",
     "start_time": "2025-01-04T15:52:14.458540900Z"
    }
   },
   "id": "ed0c604f2cb7bf21",
   "execution_count": 6
  }
 ],
 "metadata": {
  "kernelspec": {
   "display_name": "Python 3",
   "language": "python",
   "name": "python3"
  },
  "language_info": {
   "codemirror_mode": {
    "name": "ipython",
    "version": 2
   },
   "file_extension": ".py",
   "mimetype": "text/x-python",
   "name": "python",
   "nbconvert_exporter": "python",
   "pygments_lexer": "ipython2",
   "version": "2.7.6"
  }
 },
 "nbformat": 4,
 "nbformat_minor": 5
}
